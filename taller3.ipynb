{
 "cells": [
  {
   "cell_type": "code",
   "execution_count": 284,
   "metadata": {},
   "outputs": [],
   "source": [
    "import pandas as pd\n",
    "import statsmodels.formula.api as smf\n",
    "import statsmodels.api as sm\n",
    "import matplotlib.pyplot as plt\n",
    "import seaborn as sns\n",
    "import numpy as np"
   ]
  },
  {
   "cell_type": "code",
   "execution_count": 285,
   "metadata": {},
   "outputs": [
    {
     "name": "stdout",
     "output_type": "stream",
     "text": [
      "The dataset consists of 132 rows and 13 columns\n"
     ]
    }
   ],
   "source": [
    "df = pd.read_csv('baseball.csv')\n",
    "df = df.drop('name', axis=1)\n",
    "dim_df = df.shape\n",
    "print(f\"The dataset consists of {dim_df[0]} rows and {dim_df[1]} columns\")"
   ]
  },
  {
   "cell_type": "code",
   "execution_count": 286,
   "metadata": {},
   "outputs": [
    {
     "data": {
      "text/plain": [
       "salary           int64\n",
       "batting        float64\n",
       "OBP            float64\n",
       "runs             int64\n",
       "hits             int64\n",
       "dooubles         int64\n",
       "tripes           int64\n",
       "homeruns         int64\n",
       "RBI              int64\n",
       "walks            int64\n",
       "strikeouts       int64\n",
       "stolenbases      int64\n",
       "errors           int64\n",
       "dtype: object"
      ]
     },
     "execution_count": 286,
     "metadata": {},
     "output_type": "execute_result"
    }
   ],
   "source": [
    "df.dtypes"
   ]
  },
  {
   "attachments": {},
   "cell_type": "markdown",
   "metadata": {},
   "source": [
    "Let’s check how much missing data there is by columns"
   ]
  },
  {
   "cell_type": "code",
   "execution_count": 287,
   "metadata": {},
   "outputs": [
    {
     "data": {
      "text/plain": [
       "salary         0\n",
       "batting        0\n",
       "OBP            0\n",
       "runs           0\n",
       "hits           0\n",
       "dooubles       0\n",
       "tripes         0\n",
       "homeruns       0\n",
       "RBI            0\n",
       "walks          0\n",
       "strikeouts     0\n",
       "stolenbases    0\n",
       "errors         0\n",
       "dtype: int64"
      ]
     },
     "execution_count": 287,
     "metadata": {},
     "output_type": "execute_result"
    }
   ],
   "source": [
    "# Missing values by column\n",
    "df.isnull().sum()"
   ]
  },
  {
   "attachments": {},
   "cell_type": "markdown",
   "metadata": {},
   "source": [
    "# Descriptive Statistics"
   ]
  },
  {
   "cell_type": "code",
   "execution_count": 288,
   "metadata": {},
   "outputs": [
    {
     "data": {
      "text/html": [
       "<div>\n",
       "<style scoped>\n",
       "    .dataframe tbody tr th:only-of-type {\n",
       "        vertical-align: middle;\n",
       "    }\n",
       "\n",
       "    .dataframe tbody tr th {\n",
       "        vertical-align: top;\n",
       "    }\n",
       "\n",
       "    .dataframe thead th {\n",
       "        text-align: right;\n",
       "    }\n",
       "</style>\n",
       "<table border=\"1\" class=\"dataframe\">\n",
       "  <thead>\n",
       "    <tr style=\"text-align: right;\">\n",
       "      <th></th>\n",
       "      <th>salary</th>\n",
       "      <th>batting</th>\n",
       "      <th>OBP</th>\n",
       "      <th>runs</th>\n",
       "      <th>hits</th>\n",
       "      <th>dooubles</th>\n",
       "      <th>tripes</th>\n",
       "      <th>homeruns</th>\n",
       "      <th>RBI</th>\n",
       "      <th>walks</th>\n",
       "      <th>strikeouts</th>\n",
       "      <th>stolenbases</th>\n",
       "      <th>errors</th>\n",
       "    </tr>\n",
       "  </thead>\n",
       "  <tbody>\n",
       "    <tr>\n",
       "      <th>count</th>\n",
       "      <td>132.000000</td>\n",
       "      <td>132.000000</td>\n",
       "      <td>132.000000</td>\n",
       "      <td>132.000000</td>\n",
       "      <td>132.000000</td>\n",
       "      <td>132.000000</td>\n",
       "      <td>132.000000</td>\n",
       "      <td>132.000000</td>\n",
       "      <td>132.000000</td>\n",
       "      <td>132.000000</td>\n",
       "      <td>132.000000</td>\n",
       "      <td>132.000000</td>\n",
       "      <td>132.000000</td>\n",
       "    </tr>\n",
       "    <tr>\n",
       "      <th>mean</th>\n",
       "      <td>2139.242424</td>\n",
       "      <td>0.260833</td>\n",
       "      <td>0.334364</td>\n",
       "      <td>57.431818</td>\n",
       "      <td>111.310606</td>\n",
       "      <td>19.598485</td>\n",
       "      <td>2.515152</td>\n",
       "      <td>12.454545</td>\n",
       "      <td>55.219697</td>\n",
       "      <td>45.803030</td>\n",
       "      <td>65.174242</td>\n",
       "      <td>8.962121</td>\n",
       "      <td>6.613636</td>\n",
       "    </tr>\n",
       "    <tr>\n",
       "      <th>std</th>\n",
       "      <td>1225.598699</td>\n",
       "      <td>0.037279</td>\n",
       "      <td>0.044794</td>\n",
       "      <td>27.614078</td>\n",
       "      <td>45.447920</td>\n",
       "      <td>9.941708</td>\n",
       "      <td>2.435378</td>\n",
       "      <td>10.373457</td>\n",
       "      <td>28.923514</td>\n",
       "      <td>24.351259</td>\n",
       "      <td>33.043459</td>\n",
       "      <td>12.094668</td>\n",
       "      <td>5.458585</td>\n",
       "    </tr>\n",
       "    <tr>\n",
       "      <th>min</th>\n",
       "      <td>109.000000</td>\n",
       "      <td>0.063000</td>\n",
       "      <td>0.063000</td>\n",
       "      <td>0.000000</td>\n",
       "      <td>1.000000</td>\n",
       "      <td>0.000000</td>\n",
       "      <td>0.000000</td>\n",
       "      <td>0.000000</td>\n",
       "      <td>1.000000</td>\n",
       "      <td>0.000000</td>\n",
       "      <td>2.000000</td>\n",
       "      <td>0.000000</td>\n",
       "      <td>0.000000</td>\n",
       "    </tr>\n",
       "    <tr>\n",
       "      <th>25%</th>\n",
       "      <td>1043.750000</td>\n",
       "      <td>0.243000</td>\n",
       "      <td>0.308750</td>\n",
       "      <td>37.000000</td>\n",
       "      <td>72.000000</td>\n",
       "      <td>12.000000</td>\n",
       "      <td>1.000000</td>\n",
       "      <td>3.000000</td>\n",
       "      <td>32.750000</td>\n",
       "      <td>28.000000</td>\n",
       "      <td>40.000000</td>\n",
       "      <td>2.000000</td>\n",
       "      <td>3.000000</td>\n",
       "    </tr>\n",
       "    <tr>\n",
       "      <th>50%</th>\n",
       "      <td>2179.000000</td>\n",
       "      <td>0.260500</td>\n",
       "      <td>0.338500</td>\n",
       "      <td>57.500000</td>\n",
       "      <td>113.000000</td>\n",
       "      <td>18.000000</td>\n",
       "      <td>2.000000</td>\n",
       "      <td>10.000000</td>\n",
       "      <td>50.000000</td>\n",
       "      <td>42.500000</td>\n",
       "      <td>60.500000</td>\n",
       "      <td>4.000000</td>\n",
       "      <td>5.000000</td>\n",
       "    </tr>\n",
       "    <tr>\n",
       "      <th>75%</th>\n",
       "      <td>2923.000000</td>\n",
       "      <td>0.285000</td>\n",
       "      <td>0.361500</td>\n",
       "      <td>77.250000</td>\n",
       "      <td>146.250000</td>\n",
       "      <td>27.000000</td>\n",
       "      <td>4.000000</td>\n",
       "      <td>19.000000</td>\n",
       "      <td>75.000000</td>\n",
       "      <td>59.000000</td>\n",
       "      <td>84.250000</td>\n",
       "      <td>11.000000</td>\n",
       "      <td>9.000000</td>\n",
       "    </tr>\n",
       "    <tr>\n",
       "      <th>max</th>\n",
       "      <td>6100.000000</td>\n",
       "      <td>0.341000</td>\n",
       "      <td>0.424000</td>\n",
       "      <td>133.000000</td>\n",
       "      <td>216.000000</td>\n",
       "      <td>46.000000</td>\n",
       "      <td>13.000000</td>\n",
       "      <td>44.000000</td>\n",
       "      <td>133.000000</td>\n",
       "      <td>108.000000</td>\n",
       "      <td>175.000000</td>\n",
       "      <td>72.000000</td>\n",
       "      <td>31.000000</td>\n",
       "    </tr>\n",
       "  </tbody>\n",
       "</table>\n",
       "</div>"
      ],
      "text/plain": [
       "            salary     batting         OBP        runs        hits  \\\n",
       "count   132.000000  132.000000  132.000000  132.000000  132.000000   \n",
       "mean   2139.242424    0.260833    0.334364   57.431818  111.310606   \n",
       "std    1225.598699    0.037279    0.044794   27.614078   45.447920   \n",
       "min     109.000000    0.063000    0.063000    0.000000    1.000000   \n",
       "25%    1043.750000    0.243000    0.308750   37.000000   72.000000   \n",
       "50%    2179.000000    0.260500    0.338500   57.500000  113.000000   \n",
       "75%    2923.000000    0.285000    0.361500   77.250000  146.250000   \n",
       "max    6100.000000    0.341000    0.424000  133.000000  216.000000   \n",
       "\n",
       "         dooubles      tripes    homeruns         RBI       walks  strikeouts  \\\n",
       "count  132.000000  132.000000  132.000000  132.000000  132.000000  132.000000   \n",
       "mean    19.598485    2.515152   12.454545   55.219697   45.803030   65.174242   \n",
       "std      9.941708    2.435378   10.373457   28.923514   24.351259   33.043459   \n",
       "min      0.000000    0.000000    0.000000    1.000000    0.000000    2.000000   \n",
       "25%     12.000000    1.000000    3.000000   32.750000   28.000000   40.000000   \n",
       "50%     18.000000    2.000000   10.000000   50.000000   42.500000   60.500000   \n",
       "75%     27.000000    4.000000   19.000000   75.000000   59.000000   84.250000   \n",
       "max     46.000000   13.000000   44.000000  133.000000  108.000000  175.000000   \n",
       "\n",
       "       stolenbases      errors  \n",
       "count   132.000000  132.000000  \n",
       "mean      8.962121    6.613636  \n",
       "std      12.094668    5.458585  \n",
       "min       0.000000    0.000000  \n",
       "25%       2.000000    3.000000  \n",
       "50%       4.000000    5.000000  \n",
       "75%      11.000000    9.000000  \n",
       "max      72.000000   31.000000  "
      ]
     },
     "execution_count": 288,
     "metadata": {},
     "output_type": "execute_result"
    }
   ],
   "source": [
    "df.describe()"
   ]
  },
  {
   "attachments": {},
   "cell_type": "markdown",
   "metadata": {},
   "source": [
    "Histograms"
   ]
  },
  {
   "cell_type": "code",
   "execution_count": 289,
   "metadata": {},
   "outputs": [
    {
     "data": {
      "image/png": "[encoded data removed]",
      "text/plain": [
       "<Figure size 864x432 with 15 Axes>"
      ]
     },
     "metadata": {
      "needs_background": "light"
     },
     "output_type": "display_data"
    }
   ],
   "source": [
    "col_titles = ['Salary', 'Avg. Batting', 'On-Base Pct.', 'Runs', 'Hits', 'Doubles', 'Triples', 'Homeruns', \n",
    "               'Runs Batted In', 'Walks', 'Strikeouts', 'Stolen Bases', 'Errors']\n",
    "fig, axs = plt.subplots(3, 5, figsize=(12,6))\n",
    "axs = axs.ravel()\n",
    "for i, col in enumerate(df.columns):\n",
    "    axs[i].hist(df[col], edgecolor='black')\n",
    "    axs[i].set_title(col_titles[i])\n",
    "    \n",
    "plt.tight_layout()\n",
    "plt.show()"
   ]
  },
  {
   "attachments": {},
   "cell_type": "markdown",
   "metadata": {},
   "source": [
    "Boxplots"
   ]
  },
  {
   "cell_type": "code",
   "execution_count": 290,
   "metadata": {},
   "outputs": [
    {
     "data": {
      "image/png": "[encoded data removed]",
      "text/plain": [
       "<Figure size 864x432 with 15 Axes>"
      ]
     },
     "metadata": {
      "needs_background": "light"
     },
     "output_type": "display_data"
    }
   ],
   "source": [
    "import matplotlib.patches as mpatches\n",
    "\n",
    "fliers = dict(markerfacecolor='m', marker='D') #atypical data\n",
    "mean_ = dict(markerfacecolor='green', marker='D')\n",
    "mean_artist = mpatches.Patch(facecolor='green', label='Mean')\n",
    "ad_artist = mpatches.Patch(color='m', label='Atypical Data')\n",
    "\n",
    "fig, axs = plt.subplots(3, 5, figsize=(12,6))\n",
    "axs = axs.ravel()\n",
    "for i, col in enumerate(df.columns):\n",
    "  bp = axs[i].boxplot(df[col], vert=False, flierprops=fliers, showmeans=True, meanprops=mean_)\n",
    "  axs[i].legend(handles=[mean_artist, ad_artist], loc='upper left', fontsize=8)\n",
    "  axs[i].set_title(col_titles[i])\n",
    "\n",
    "plt.tight_layout()\n",
    "plt.show()"
   ]
  },
  {
   "attachments": {},
   "cell_type": "markdown",
   "metadata": {},
   "source": [
    "Correlation"
   ]
  },
  {
   "cell_type": "code",
   "execution_count": 291,
   "metadata": {},
   "outputs": [
    {
     "data": {
      "image/png": "[encoded data removed]",
      "text/plain": [
       "<Figure size 720x720 with 2 Axes>"
      ]
     },
     "metadata": {
      "needs_background": "light"
     },
     "output_type": "display_data"
    }
   ],
   "source": [
    "fig, ax = plt.subplots(figsize=(10, 10))\n",
    "corr_matrix = df.corr()\n",
    "corr_matrix = corr_matrix.rename(columns=dict(zip(corr_matrix.columns, col_titles)))\n",
    "corr_matrix = corr_matrix.rename(index=dict(zip(corr_matrix.index, col_titles)))\n",
    "sns.heatmap(corr_matrix, square=True, annot=True, ax=ax)\n",
    "plt.show()"
   ]
  },
  {
   "attachments": {},
   "cell_type": "markdown",
   "metadata": {},
   "source": [
    "Normality Test for the data"
   ]
  },
  {
   "cell_type": "code",
   "execution_count": 292,
   "metadata": {},
   "outputs": [
    {
     "name": "stdout",
     "output_type": "stream",
     "text": [
      "Los datos de la variable salary no son normales\n",
      "Los datos de la variable batting no son normales\n",
      "Los datos de la variable OBP no son normales\n",
      "Los datos de la variable runs son normales\n",
      "Los datos de la variable hits son normales\n",
      "Los datos de la variable dooubles no son normales\n",
      "Los datos de la variable tripes no son normales\n",
      "Los datos de la variable homeruns no son normales\n",
      "Los datos de la variable RBI no son normales\n",
      "Los datos de la variable walks no son normales\n",
      "Los datos de la variable strikeouts no son normales\n",
      "Los datos de la variable stolenbases no son normales\n",
      "Los datos de la variable errors no son normales\n"
     ]
    }
   ],
   "source": [
    "from scipy.stats import shapiro\n",
    "\n",
    "for col in df.columns:\n",
    "    data = df[col].tolist()\n",
    "    stat, p = shapiro(data)\n",
    "    ans = 'son normales' if p > 0.05 else 'no son normales'\n",
    "    print(f'Los datos de la variable {col} {ans}')"
   ]
  },
  {
   "attachments": {},
   "cell_type": "markdown",
   "metadata": {},
   "source": [
    "# Linear Regression Model"
   ]
  },
  {
   "attachments": {},
   "cell_type": "markdown",
   "metadata": {},
   "source": [
    "Dataset split into train and test"
   ]
  },
  {
   "cell_type": "code",
   "execution_count": 293,
   "metadata": {},
   "outputs": [],
   "source": [
    "# Agregando una columna de unos para el intercepto\n",
    "df = sm.add_constant(df)"
   ]
  },
  {
   "cell_type": "code",
   "execution_count": 294,
   "metadata": {},
   "outputs": [],
   "source": [
    "from sklearn.model_selection import train_test_split\n",
    "X_train, X_test, y_train, y_test = train_test_split(df.drop('salary', axis=1), \n",
    "                                                    df['salary'], test_size=0.2, random_state=123)"
   ]
  },
  {
   "cell_type": "code",
   "execution_count": 295,
   "metadata": {},
   "outputs": [
    {
     "name": "stdout",
     "output_type": "stream",
     "text": [
      "                            OLS Regression Results                            \n",
      "==============================================================================\n",
      "Dep. Variable:                 salary   R-squared:                       0.509\n",
      "Model:                            OLS   Adj. R-squared:                  0.445\n",
      "Method:                 Least Squares   F-statistic:                     7.935\n",
      "Date:                Wed, 03 May 2023   Prob (F-statistic):           5.68e-10\n",
      "Time:                        19:55:55   Log-Likelihood:                -858.10\n",
      "No. Observations:                 105   AIC:                             1742.\n",
      "Df Residuals:                      92   BIC:                             1777.\n",
      "Df Model:                          12                                         \n",
      "Covariance Type:            nonrobust                                         \n",
      "===============================================================================\n",
      "                  coef    std err          t      P>|t|      [0.025      0.975]\n",
      "-------------------------------------------------------------------------------\n",
      "const         610.4817    825.541      0.739      0.461   -1029.113    2250.077\n",
      "batting      2222.3302   1.14e+04      0.195      0.846   -2.05e+04    2.49e+04\n",
      "OBP         -1638.8541   8744.203     -0.187      0.852    -1.9e+04    1.57e+04\n",
      "runs            7.3625     16.456      0.447      0.656     -25.321      40.046\n",
      "hits            0.7794      9.802      0.080      0.937     -18.689      20.248\n",
      "dooubles      -15.8879     19.852     -0.800      0.426     -55.316      23.541\n",
      "tripes        -28.0621     51.604     -0.544      0.588    -130.552      74.428\n",
      "homeruns       16.9401     28.594      0.592      0.555     -39.851      73.731\n",
      "RBI            23.4869     12.224      1.921      0.058      -0.791      47.765\n",
      "walks           2.7735     13.770      0.201      0.841     -24.575      30.122\n",
      "strikeouts     -4.6099      4.667     -0.988      0.326     -13.879       4.659\n",
      "stolenbases    14.9283     12.222      1.221      0.225      -9.345      39.202\n",
      "errors        -19.7701     16.648     -1.188      0.238     -52.835      13.295\n",
      "==============================================================================\n",
      "Omnibus:                       12.536   Durbin-Watson:                   1.979\n",
      "Prob(Omnibus):                  0.002   Jarque-Bera (JB):               13.938\n",
      "Skew:                           0.715   Prob(JB):                     0.000941\n",
      "Kurtosis:                       4.067   Cond. No.                     2.73e+04\n",
      "==============================================================================\n",
      "\n",
      "Notes:\n",
      "[1] Standard Errors assume that the covariance matrix of the errors is correctly specified.\n",
      "[2] The condition number is large, 2.73e+04. This might indicate that there are\n",
      "strong multicollinearity or other numerical problems.\n"
     ]
    }
   ],
   "source": [
    "# Fitting the regression model\n",
    "model = sm.OLS(y_train, X_train).fit()\n",
    "print(model.summary())"
   ]
  },
  {
   "cell_type": "code",
   "execution_count": 296,
   "metadata": {},
   "outputs": [
    {
     "name": "stdout",
     "output_type": "stream",
     "text": [
      "Coefficients LR\n",
      "const           610.481682\n",
      "batting        2222.330221\n",
      "OBP           -1638.854103\n",
      "runs              7.362492\n",
      "hits              0.779417\n",
      "dooubles        -15.887854\n",
      "tripes          -28.062148\n",
      "homeruns         16.940114\n",
      "RBI              23.486874\n",
      "walks             2.773515\n",
      "strikeouts       -4.609948\n",
      "stolenbases      14.928319\n",
      "errors          -19.770148\n",
      "dtype: float64\n"
     ]
    }
   ],
   "source": [
    "print('Coefficients LR')\n",
    "print(model.params)"
   ]
  },
  {
   "attachments": {},
   "cell_type": "markdown",
   "metadata": {},
   "source": [
    "Significant variables for the model"
   ]
  },
  {
   "cell_type": "code",
   "execution_count": 297,
   "metadata": {},
   "outputs": [
    {
     "name": "stdout",
     "output_type": "stream",
     "text": [
      "p-values variables\n",
      "const          0.461490\n",
      "batting        0.846156\n",
      "OBP            0.851743\n",
      "runs           0.655638\n",
      "hits           0.936797\n",
      "dooubles       0.425598\n",
      "tripes         0.587896\n",
      "homeruns       0.555018\n",
      "RBI            0.057780\n",
      "walks          0.840817\n",
      "strikeouts     0.325847\n",
      "stolenbases    0.225035\n",
      "errors         0.238081\n",
      "dtype: float64\n"
     ]
    }
   ],
   "source": [
    "print('p-values variables')\n",
    "print(model.pvalues)"
   ]
  },
  {
   "attachments": {},
   "cell_type": "markdown",
   "metadata": {},
   "source": [
    "Metrics to check the model"
   ]
  },
  {
   "cell_type": "code",
   "execution_count": 298,
   "metadata": {},
   "outputs": [
    {
     "name": "stdout",
     "output_type": "stream",
     "text": [
      "MSE for the LR Model: 472509.2342122604\n"
     ]
    }
   ],
   "source": [
    "from sklearn.metrics import mean_squared_error\n",
    "\n",
    "y_test_pred = model.predict(X_test)\n",
    "mse = mean_squared_error(y_test, y_test_pred)\n",
    "print(f'MSE for the LR Model: {mse}')"
   ]
  },
  {
   "attachments": {},
   "cell_type": "markdown",
   "metadata": {},
   "source": [
    "El modelo de regresión lineal de todas las variables tiene un R-cuadrado ajustado de 0.445, lo que sugiere que alrededor del 44.5% de la variabilidad de la variable de respuesta (salario) puede explicarse por las variables predictoras incluidas en el modelo. \n",
    "\n",
    "Algunos de los coeficientes de regresión tienen p-valores altos, lo que sugiere que no son estadísticamente significativos. Por ejemplo, el coeficiente para \"hits\" tiene un p-valor de 0.936797, lo que sugiere que no es una variable significativa para predecir el salario. Además, la variable \"RBI\" tiene un p-valor marginalmente significativo (0.057780), lo que sugiere que puede ser una variable importante, pero se necesita más análisis para confirmar su importancia.\n",
    "\n",
    "Con respecto al MSE, el valor obtenido indica que hay una alta varianza entre los valores predichos por el modelo y los valores reales de la variable objetivo. En otras palabras, el modelo no se ajusta bien a los datos y tiene un rendimiento insuficiente en la tarea de predicción. Esto puede ocurrir debido a que hay variables que estan muy correlacionadas, hay valores de 0.89 y 0.84"
   ]
  },
  {
   "attachments": {},
   "cell_type": "markdown",
   "metadata": {},
   "source": [
    "### Modelos Propuestos:"
   ]
  },
  {
   "attachments": {},
   "cell_type": "markdown",
   "metadata": {},
   "source": [
    "Seleccion de las mejores variables usando un enfoque voraz. En cada etapa, este estimador elige la mejor característica para añadir basándose en la puntuación de validación cruzada de un estimador."
   ]
  },
  {
   "cell_type": "code",
   "execution_count": 299,
   "metadata": {},
   "outputs": [
    {
     "name": "stdout",
     "output_type": "stream",
     "text": [
      "Variables seleccionadas: Index(['runs', 'tripes', 'homeruns'], dtype='object')\n",
      "{'runs': 21.996696479214034, 'tripes': -57.43388406557736, 'homeruns': 32.45593597987061, 'intercept': 578.0977492624365}\n",
      "MSE del modelo con variables seleccionadas: 500367.14098529215\n"
     ]
    }
   ],
   "source": [
    "from sklearn.feature_selection import SequentialFeatureSelector\n",
    "from sklearn.linear_model import LinearRegression\n",
    "from sklearn.model_selection import train_test_split\n",
    "\n",
    "df_copy = df.copy()\n",
    "df_copy = df_copy.drop('const', axis=1)\n",
    "X_train, X_test, y_train, y_test = train_test_split(df_copy.drop('salary', axis=1), \n",
    "                                                    df_copy['salary'], test_size=0.2, random_state=123)\n",
    "\n",
    "# Model\n",
    "model = LinearRegression().fit(X_train, y_train)\n",
    "sfs = SequentialFeatureSelector(model, direction='forward', n_features_to_select=3)\n",
    "sfs.fit(X_train, y_train)\n",
    "\n",
    "# Variables seleccionadas\n",
    "selected_features = X_train.columns[sfs.get_support()]\n",
    "print(\"Variables seleccionadas:\", selected_features)\n",
    "\n",
    "# Entrenar el modelo con las variables seleccionadas\n",
    "X_selected = X_train.iloc[:, sfs.get_support()]\n",
    "model_final = LinearRegression().fit(X_selected, y_train)\n",
    "coef_dict = dict(zip(X_selected.columns, model_final.coef_))\n",
    "coef_dict['intercept'] = model_final.intercept_\n",
    "print(coef_dict)\n",
    "y_pred_selected = model_final.predict(X_test.iloc[:, sfs.get_support()])\n",
    "mse_selected = mean_squared_error(y_test, y_pred_selected)\n",
    "print(f\"MSE del modelo con variables seleccionadas: {mse_selected}\")\n"
   ]
  },
  {
   "attachments": {},
   "cell_type": "markdown",
   "metadata": {},
   "source": [
    "Quitando pares de variables con alta correlacion, hits-runs (0.89)"
   ]
  },
  {
   "cell_type": "code",
   "execution_count": 300,
   "metadata": {},
   "outputs": [
    {
     "name": "stdout",
     "output_type": "stream",
     "text": [
      "                            OLS Regression Results                            \n",
      "==============================================================================\n",
      "Dep. Variable:                 salary   R-squared:                       0.507\n",
      "Model:                            OLS   Adj. R-squared:                  0.454\n",
      "Method:                 Least Squares   F-statistic:                     9.664\n",
      "Date:                Wed, 03 May 2023   Prob (F-statistic):           6.62e-11\n",
      "Time:                        19:55:57   Log-Likelihood:                -858.28\n",
      "No. Observations:                 105   AIC:                             1739.\n",
      "Df Residuals:                      94   BIC:                             1768.\n",
      "Df Model:                          10                                         \n",
      "Covariance Type:            nonrobust                                         \n",
      "===============================================================================\n",
      "                  coef    std err          t      P>|t|      [0.025      0.975]\n",
      "-------------------------------------------------------------------------------\n",
      "const         563.4073    805.423      0.700      0.486   -1035.778    2162.593\n",
      "batting      5140.0797   7691.127      0.668      0.506   -1.01e+04    2.04e+04\n",
      "OBP         -3691.6341   6589.876     -0.560      0.577   -1.68e+04    9392.719\n",
      "dooubles      -12.4389     17.454     -0.713      0.478     -47.094      22.216\n",
      "tripes        -14.8323     45.047     -0.329      0.743    -104.274      74.609\n",
      "homeruns       21.4989     23.591      0.911      0.364     -25.342      68.339\n",
      "RBI            24.3652     11.277      2.161      0.033       1.974      46.756\n",
      "walks           8.0549      9.709      0.830      0.409     -11.223      27.333\n",
      "strikeouts     -4.7943      4.427     -1.083      0.282     -13.585       3.997\n",
      "stolenbases    19.5713      8.651      2.262      0.026       2.395      36.747\n",
      "errors        -19.5004     16.334     -1.194      0.236     -51.932      12.931\n",
      "==============================================================================\n",
      "Omnibus:                       11.564   Durbin-Watson:                   1.947\n",
      "Prob(Omnibus):                  0.003   Jarque-Bera (JB):               12.487\n",
      "Skew:                           0.685   Prob(JB):                      0.00194\n",
      "Kurtosis:                       3.989   Cond. No.                     1.24e+04\n",
      "==============================================================================\n",
      "\n",
      "Notes:\n",
      "[1] Standard Errors assume that the covariance matrix of the errors is correctly specified.\n",
      "[2] The condition number is large, 1.24e+04. This might indicate that there are\n",
      "strong multicollinearity or other numerical problems.\n"
     ]
    }
   ],
   "source": [
    "df_copy = df.copy()\n",
    "df_copy = df_copy.drop(['hits', 'runs'], axis=1)\n",
    "X_train, X_test, y_train, y_test = train_test_split(df_copy.drop('salary', axis=1), \n",
    "                                                    df_copy['salary'], test_size=0.2, random_state=123)\n",
    "model = sm.OLS(y_train, X_train).fit()\n",
    "print(model.summary())"
   ]
  },
  {
   "cell_type": "code",
   "execution_count": 301,
   "metadata": {},
   "outputs": [
    {
     "name": "stdout",
     "output_type": "stream",
     "text": [
      "MSE for the LR Model: 488929.61951423663\n"
     ]
    }
   ],
   "source": [
    "y_test_pred = model.predict(X_test)\n",
    "mse = mean_squared_error(y_test, y_test_pred)\n",
    "print(f'MSE for the LR Model: {mse}')"
   ]
  },
  {
   "attachments": {},
   "cell_type": "markdown",
   "metadata": {},
   "source": [
    "Quitando pares de variables con alta correlacion, hits-runs (0.89) y dooubles-homeruns (0.84)"
   ]
  },
  {
   "cell_type": "code",
   "execution_count": 302,
   "metadata": {},
   "outputs": [
    {
     "name": "stdout",
     "output_type": "stream",
     "text": [
      "                            OLS Regression Results                            \n",
      "==============================================================================\n",
      "Dep. Variable:                 salary   R-squared:                       0.500\n",
      "Model:                            OLS   Adj. R-squared:                  0.458\n",
      "Method:                 Least Squares   F-statistic:                     11.98\n",
      "Date:                Wed, 03 May 2023   Prob (F-statistic):           1.03e-11\n",
      "Time:                        19:55:58   Log-Likelihood:                -859.06\n",
      "No. Observations:                 105   AIC:                             1736.\n",
      "Df Residuals:                      96   BIC:                             1760.\n",
      "Df Model:                           8                                         \n",
      "Covariance Type:            nonrobust                                         \n",
      "===============================================================================\n",
      "                  coef    std err          t      P>|t|      [0.025      0.975]\n",
      "-------------------------------------------------------------------------------\n",
      "const         510.0526    797.551      0.640      0.524   -1073.074    2093.179\n",
      "batting      1469.4215   7021.885      0.209      0.835   -1.25e+04    1.54e+04\n",
      "OBP         -1149.4606   6208.703     -0.185      0.854   -1.35e+04    1.12e+04\n",
      "tripes        -25.7709     43.824     -0.588      0.558    -112.761      61.219\n",
      "RBI            28.8328      6.412      4.496      0.000      16.104      41.561\n",
      "walks           4.6577      9.150      0.509      0.612     -13.505      22.820\n",
      "strikeouts     -2.9994      4.041     -0.742      0.460     -11.022       5.023\n",
      "stolenbases    20.0057      8.558      2.338      0.021       3.018      36.993\n",
      "errors        -18.9731     16.184     -1.172      0.244     -51.098      13.152\n",
      "==============================================================================\n",
      "Omnibus:                        8.148   Durbin-Watson:                   1.956\n",
      "Prob(Omnibus):                  0.017   Jarque-Bera (JB):                7.774\n",
      "Skew:                           0.603   Prob(JB):                       0.0205\n",
      "Kurtosis:                       3.566   Cond. No.                     1.12e+04\n",
      "==============================================================================\n",
      "\n",
      "Notes:\n",
      "[1] Standard Errors assume that the covariance matrix of the errors is correctly specified.\n",
      "[2] The condition number is large, 1.12e+04. This might indicate that there are\n",
      "strong multicollinearity or other numerical problems.\n"
     ]
    }
   ],
   "source": [
    "df_copy = df.copy()\n",
    "df_copy = df_copy.drop(['hits', 'runs', 'dooubles', 'homeruns'], axis=1)\n",
    "X_train, X_test, y_train, y_test = train_test_split(df_copy.drop('salary', axis=1), \n",
    "                                                    df_copy['salary'], test_size=0.2, random_state=123)\n",
    "model = sm.OLS(y_train, X_train).fit()\n",
    "print(model.summary())"
   ]
  },
  {
   "cell_type": "code",
   "execution_count": 303,
   "metadata": {},
   "outputs": [
    {
     "name": "stdout",
     "output_type": "stream",
     "text": [
      "MSE for the LR Model: 451816.86700758204\n"
     ]
    }
   ],
   "source": [
    "y_test_pred = model.predict(X_test)\n",
    "mse = mean_squared_error(y_test, y_test_pred)\n",
    "print(f'MSE for the LR Model: {mse}')"
   ]
  },
  {
   "attachments": {},
   "cell_type": "markdown",
   "metadata": {},
   "source": [
    "Quitando pares de variables con alta correlacion, hits-runs (0.89) y OBP-batting (0.8)"
   ]
  },
  {
   "cell_type": "code",
   "execution_count": 304,
   "metadata": {},
   "outputs": [
    {
     "name": "stdout",
     "output_type": "stream",
     "text": [
      "                            OLS Regression Results                            \n",
      "==============================================================================\n",
      "Dep. Variable:                 salary   R-squared:                       0.505\n",
      "Model:                            OLS   Adj. R-squared:                  0.463\n",
      "Method:                 Least Squares   F-statistic:                     12.22\n",
      "Date:                Wed, 03 May 2023   Prob (F-statistic):           6.53e-12\n",
      "Time:                        19:55:58   Log-Likelihood:                -858.53\n",
      "No. Observations:                 105   AIC:                             1735.\n",
      "Df Residuals:                      96   BIC:                             1759.\n",
      "Df Model:                           8                                         \n",
      "Covariance Type:            nonrobust                                         \n",
      "===============================================================================\n",
      "                  coef    std err          t      P>|t|      [0.025      0.975]\n",
      "-------------------------------------------------------------------------------\n",
      "const         643.0386    265.933      2.418      0.017     115.167    1170.911\n",
      "dooubles       -9.5105     16.723     -0.569      0.571     -42.706      23.685\n",
      "tripes         -7.5679     43.311     -0.175      0.862     -93.540      78.404\n",
      "homeruns       16.4791     22.207      0.742      0.460     -27.602      60.560\n",
      "RBI            28.2745      9.593      2.947      0.004       9.233      47.316\n",
      "walks           3.6807      5.216      0.706      0.482      -6.672      14.034\n",
      "strikeouts     -5.2118      4.193     -1.243      0.217     -13.535       3.111\n",
      "stolenbases    21.4778      8.106      2.650      0.009       5.388      37.568\n",
      "errors        -18.2242     16.094     -1.132      0.260     -50.170      13.722\n",
      "==============================================================================\n",
      "Omnibus:                       10.198   Durbin-Watson:                   1.960\n",
      "Prob(Omnibus):                  0.006   Jarque-Bera (JB):               10.555\n",
      "Skew:                           0.641   Prob(JB):                      0.00510\n",
      "Kurtosis:                       3.878   Cond. No.                         337.\n",
      "==============================================================================\n",
      "\n",
      "Notes:\n",
      "[1] Standard Errors assume that the covariance matrix of the errors is correctly specified.\n"
     ]
    }
   ],
   "source": [
    "df_copy = df.copy()\n",
    "df_copy = df_copy.drop(['hits', 'runs', 'OBP', 'batting'], axis=1)\n",
    "X_train, X_test, y_train, y_test = train_test_split(df_copy.drop('salary', axis=1), \n",
    "                                                    df_copy['salary'], test_size=0.2, random_state=123)\n",
    "model = sm.OLS(y_train, X_train).fit()\n",
    "print(model.summary())"
   ]
  },
  {
   "cell_type": "code",
   "execution_count": 305,
   "metadata": {},
   "outputs": [
    {
     "name": "stdout",
     "output_type": "stream",
     "text": [
      "MSE for the LR Model: 496001.73702509375\n"
     ]
    }
   ],
   "source": [
    "y_test_pred = model.predict(X_test)\n",
    "mse = mean_squared_error(y_test, y_test_pred)\n",
    "print(f'MSE for the LR Model: {mse}')"
   ]
  },
  {
   "attachments": {},
   "cell_type": "markdown",
   "metadata": {},
   "source": [
    "Modelo eliminando las variables con mayor p-value del modelo completo:"
   ]
  },
  {
   "cell_type": "code",
   "execution_count": 306,
   "metadata": {},
   "outputs": [
    {
     "name": "stdout",
     "output_type": "stream",
     "text": [
      "                            OLS Regression Results                            \n",
      "==============================================================================\n",
      "Dep. Variable:                 salary   R-squared:                       0.508\n",
      "Model:                            OLS   Adj. R-squared:                  0.467\n",
      "Method:                 Least Squares   F-statistic:                     12.39\n",
      "Date:                Wed, 03 May 2023   Prob (F-statistic):           4.74e-12\n",
      "Time:                        19:55:59   Log-Likelihood:                -858.16\n",
      "No. Observations:                 105   AIC:                             1734.\n",
      "Df Residuals:                      96   BIC:                             1758.\n",
      "Df Model:                           8                                         \n",
      "Covariance Type:            nonrobust                                         \n",
      "===============================================================================\n",
      "                  coef    std err          t      P>|t|      [0.025      0.975]\n",
      "-------------------------------------------------------------------------------\n",
      "const         638.8948    264.001      2.420      0.017     114.856    1162.933\n",
      "runs           10.0074      9.188      1.089      0.279      -8.232      28.246\n",
      "dooubles      -14.7123     16.905     -0.870      0.386     -48.269      18.844\n",
      "tripes        -28.5430     46.473     -0.614      0.541    -120.792      63.706\n",
      "homeruns       12.4897     21.779      0.573      0.568     -30.740      55.720\n",
      "RBI            25.3140     10.201      2.481      0.015       5.065      45.563\n",
      "strikeouts     -4.6401      3.924     -1.183      0.240     -12.429       3.149\n",
      "stolenbases    14.4213     11.271      1.279      0.204      -7.952      36.795\n",
      "errors        -19.0235     15.935     -1.194      0.235     -50.654      12.607\n",
      "==============================================================================\n",
      "Omnibus:                       11.750   Durbin-Watson:                   1.992\n",
      "Prob(Omnibus):                  0.003   Jarque-Bera (JB):               12.680\n",
      "Skew:                           0.696   Prob(JB):                      0.00176\n",
      "Kurtosis:                       3.979   Cond. No.                         350.\n",
      "==============================================================================\n",
      "\n",
      "Notes:\n",
      "[1] Standard Errors assume that the covariance matrix of the errors is correctly specified.\n"
     ]
    }
   ],
   "source": [
    "df_copy = df.copy()\n",
    "df_copy = df_copy.drop(['hits', 'walks', 'OBP', 'batting'], axis=1)\n",
    "X_train, X_test, y_train, y_test = train_test_split(df_copy.drop('salary', axis=1), \n",
    "                                                    df_copy['salary'], test_size=0.2, random_state=123)\n",
    "model = sm.OLS(y_train, X_train).fit()\n",
    "print(model.summary())"
   ]
  },
  {
   "cell_type": "code",
   "execution_count": 307,
   "metadata": {},
   "outputs": [
    {
     "name": "stdout",
     "output_type": "stream",
     "text": [
      "MSE for the LR Model: 465509.7083045767\n"
     ]
    }
   ],
   "source": [
    "y_test_pred = model.predict(X_test)\n",
    "mse = mean_squared_error(y_test, y_test_pred)\n",
    "print(f'MSE for the LR Model: {mse}')"
   ]
  },
  {
   "attachments": {},
   "cell_type": "markdown",
   "metadata": {},
   "source": [
    "Modelo teniendo en cuenta un analisis de PCA:"
   ]
  },
  {
   "cell_type": "code",
   "execution_count": 308,
   "metadata": {},
   "outputs": [
    {
     "name": "stdout",
     "output_type": "stream",
     "text": [
      "suma: 0.982670851047459\n"
     ]
    },
    {
     "data": {
      "image/png": "[encoded data removed]",
      "text/plain": [
       "<Figure size 432x288 with 1 Axes>"
      ]
     },
     "metadata": {
      "needs_background": "light"
     },
     "output_type": "display_data"
    }
   ],
   "source": [
    "from sklearn.decomposition import PCA\n",
    "\n",
    "pca = PCA(n_components=13)\n",
    "pca.fit(df.drop(['salary'], axis=1)) \n",
    "X_pca = pca.fit_transform(df.drop(['salary'], axis=1))\n",
    "\n",
    "expl = pca.explained_variance_ratio_\n",
    "print('suma:',sum(expl[0:5]))\n",
    "\n",
    "plt.plot(np.cumsum(pca.explained_variance_ratio_))\n",
    "plt.xlabel('number of components')\n",
    "plt.xticks(np.arange(0, df.shape[1]-1, 1.0))\n",
    "\n",
    "plt.ylabel('cumulative explained variance')\n",
    "plt.grid()\n",
    "plt.show()"
   ]
  },
  {
   "cell_type": "code",
   "execution_count": 309,
   "metadata": {},
   "outputs": [
    {
     "name": "stdout",
     "output_type": "stream",
     "text": [
      "                                 OLS Regression Results                                \n",
      "=======================================================================================\n",
      "Dep. Variable:                 salary   R-squared (uncentered):                   0.120\n",
      "Model:                            OLS   Adj. R-squared (uncentered):              0.076\n",
      "Method:                 Least Squares   F-statistic:                              2.738\n",
      "Date:                Wed, 03 May 2023   Prob (F-statistic):                      0.0232\n",
      "Time:                        19:56:00   Log-Likelihood:                         -960.29\n",
      "No. Observations:                 105   AIC:                                      1931.\n",
      "Df Residuals:                     100   BIC:                                      1944.\n",
      "Df Model:                           5                                                  \n",
      "Covariance Type:            nonrobust                                                  \n",
      "==============================================================================\n",
      "                 coef    std err          t      P>|t|      [0.025      0.975]\n",
      "------------------------------------------------------------------------------\n",
      "PC1          -11.6002      3.481     -3.332      0.001     -18.507      -4.693\n",
      "PC2            7.3171      7.948      0.921      0.359      -8.452      23.086\n",
      "PC3            2.8853     11.678      0.247      0.805     -20.284      26.055\n",
      "PC4          -18.1806     14.884     -1.221      0.225     -47.711      11.350\n",
      "PC5           18.1515     23.822      0.762      0.448     -29.110      65.413\n",
      "==============================================================================\n",
      "Omnibus:                        4.621   Durbin-Watson:                   0.326\n",
      "Prob(Omnibus):                  0.099   Jarque-Bera (JB):                4.509\n",
      "Skew:                           0.506   Prob(JB):                        0.105\n",
      "Kurtosis:                       2.927   Cond. No.                         6.86\n",
      "==============================================================================\n",
      "\n",
      "Notes:\n",
      "[1] R² is computed without centering (uncentered) since the model does not contain a constant.\n",
      "[2] Standard Errors assume that the covariance matrix of the errors is correctly specified.\n"
     ]
    }
   ],
   "source": [
    "X_pca_df = pd.DataFrame(X_pca[:, :5], columns=['PC1', 'PC2', 'PC3', 'PC4', 'PC5'])\n",
    "X_pca_df['salary'] = df['salary']\n",
    "\n",
    "from sklearn.model_selection import train_test_split\n",
    "\n",
    "X_train, X_test, y_train, y_test = train_test_split(X_pca_df.drop('salary', axis=1), X_pca_df['salary'], test_size=0.2, random_state=123)\n",
    "model = sm.OLS(y_train, X_train).fit()\n",
    "print(model.summary())"
   ]
  },
  {
   "cell_type": "code",
   "execution_count": 310,
   "metadata": {},
   "outputs": [
    {
     "name": "stdout",
     "output_type": "stream",
     "text": [
      "MSE for the LR Model: 6045180.400770556\n"
     ]
    }
   ],
   "source": [
    "y_test_pred = model.predict(X_test)\n",
    "mse = mean_squared_error(y_test, y_test_pred)\n",
    "print(f'MSE for the LR Model: {mse}')"
   ]
  },
  {
   "attachments": {},
   "cell_type": "markdown",
   "metadata": {},
   "source": [
    "RESUMEN DE RESULTADOS\n",
    "\n",
    "| Modelo                          | MSE          |\n",
    "|---------------------------------|--------------|\n",
    "| Modelo 2 elimnado correlaciones | 451,816.87   |\n",
    "| Modelo sin p-values grandes     | 465,509.71   |\n",
    "| Modelo Completo                 | 472,509.23   |\n",
    "| Modelo 1 elimnado correlaciones | 488,929.62   |\n",
    "| Modelo 3 elimnado correlaciones | 496,001.74   |\n",
    "| Modelo Greedy                   | 500,367.14   |\n",
    "| Modelo PCA                      | 6,045,180.40 |"
   ]
  },
  {
   "attachments": {},
   "cell_type": "markdown",
   "metadata": {},
   "source": [
    "# Punto 2"
   ]
  },
  {
   "cell_type": "code",
   "execution_count": 311,
   "metadata": {},
   "outputs": [
    {
     "name": "stdout",
     "output_type": "stream",
     "text": [
      "The dataset consists of 1243 rows and 7 columns\n"
     ]
    }
   ],
   "source": [
    "df2 = pd.read_csv('fertility.csv')\n",
    "df2 = df2.drop(['voc_train', 'german'], axis=1)\n",
    "dim_df = df2.shape\n",
    "print(f\"The dataset consists of {dim_df[0]} rows and {dim_df[1]} columns\")"
   ]
  },
  {
   "cell_type": "code",
   "execution_count": 312,
   "metadata": {},
   "outputs": [
    {
     "data": {
      "text/plain": [
       "children        0\n",
       "years_school    0\n",
       "university      0\n",
       "religion        0\n",
       "year_birth      0\n",
       "rural           0\n",
       "age_marriage    0\n",
       "dtype: int64"
      ]
     },
     "execution_count": 312,
     "metadata": {},
     "output_type": "execute_result"
    }
   ],
   "source": [
    "df2.isnull().sum()"
   ]
  },
  {
   "attachments": {},
   "cell_type": "markdown",
   "metadata": {},
   "source": [
    "Convert cathegorical data to numerical"
   ]
  },
  {
   "cell_type": "code",
   "execution_count": 313,
   "metadata": {},
   "outputs": [
    {
     "data": {
      "text/html": [
       "<div>\n",
       "<style scoped>\n",
       "    .dataframe tbody tr th:only-of-type {\n",
       "        vertical-align: middle;\n",
       "    }\n",
       "\n",
       "    .dataframe tbody tr th {\n",
       "        vertical-align: top;\n",
       "    }\n",
       "\n",
       "    .dataframe thead th {\n",
       "        text-align: right;\n",
       "    }\n",
       "</style>\n",
       "<table border=\"1\" class=\"dataframe\">\n",
       "  <thead>\n",
       "    <tr style=\"text-align: right;\">\n",
       "      <th></th>\n",
       "      <th>children</th>\n",
       "      <th>years_school</th>\n",
       "      <th>university</th>\n",
       "      <th>religion</th>\n",
       "      <th>year_birth</th>\n",
       "      <th>rural</th>\n",
       "      <th>age_marriage</th>\n",
       "    </tr>\n",
       "  </thead>\n",
       "  <tbody>\n",
       "    <tr>\n",
       "      <th>0</th>\n",
       "      <td>2</td>\n",
       "      <td>8</td>\n",
       "      <td>0</td>\n",
       "      <td>0</td>\n",
       "      <td>42</td>\n",
       "      <td>1</td>\n",
       "      <td>20</td>\n",
       "    </tr>\n",
       "    <tr>\n",
       "      <th>1</th>\n",
       "      <td>3</td>\n",
       "      <td>8</td>\n",
       "      <td>0</td>\n",
       "      <td>0</td>\n",
       "      <td>55</td>\n",
       "      <td>1</td>\n",
       "      <td>21</td>\n",
       "    </tr>\n",
       "    <tr>\n",
       "      <th>2</th>\n",
       "      <td>2</td>\n",
       "      <td>8</td>\n",
       "      <td>0</td>\n",
       "      <td>0</td>\n",
       "      <td>51</td>\n",
       "      <td>1</td>\n",
       "      <td>24</td>\n",
       "    </tr>\n",
       "    <tr>\n",
       "      <th>3</th>\n",
       "      <td>4</td>\n",
       "      <td>8</td>\n",
       "      <td>0</td>\n",
       "      <td>0</td>\n",
       "      <td>54</td>\n",
       "      <td>0</td>\n",
       "      <td>26</td>\n",
       "    </tr>\n",
       "    <tr>\n",
       "      <th>4</th>\n",
       "      <td>2</td>\n",
       "      <td>8</td>\n",
       "      <td>0</td>\n",
       "      <td>0</td>\n",
       "      <td>46</td>\n",
       "      <td>1</td>\n",
       "      <td>22</td>\n",
       "    </tr>\n",
       "    <tr>\n",
       "      <th>...</th>\n",
       "      <td>...</td>\n",
       "      <td>...</td>\n",
       "      <td>...</td>\n",
       "      <td>...</td>\n",
       "      <td>...</td>\n",
       "      <td>...</td>\n",
       "      <td>...</td>\n",
       "    </tr>\n",
       "    <tr>\n",
       "      <th>1238</th>\n",
       "      <td>2</td>\n",
       "      <td>13</td>\n",
       "      <td>1</td>\n",
       "      <td>1</td>\n",
       "      <td>45</td>\n",
       "      <td>1</td>\n",
       "      <td>23</td>\n",
       "    </tr>\n",
       "    <tr>\n",
       "      <th>1239</th>\n",
       "      <td>2</td>\n",
       "      <td>13</td>\n",
       "      <td>1</td>\n",
       "      <td>1</td>\n",
       "      <td>41</td>\n",
       "      <td>0</td>\n",
       "      <td>25</td>\n",
       "    </tr>\n",
       "    <tr>\n",
       "      <th>1240</th>\n",
       "      <td>2</td>\n",
       "      <td>13</td>\n",
       "      <td>1</td>\n",
       "      <td>1</td>\n",
       "      <td>56</td>\n",
       "      <td>0</td>\n",
       "      <td>25</td>\n",
       "    </tr>\n",
       "    <tr>\n",
       "      <th>1241</th>\n",
       "      <td>2</td>\n",
       "      <td>13</td>\n",
       "      <td>1</td>\n",
       "      <td>1</td>\n",
       "      <td>58</td>\n",
       "      <td>0</td>\n",
       "      <td>25</td>\n",
       "    </tr>\n",
       "    <tr>\n",
       "      <th>1242</th>\n",
       "      <td>0</td>\n",
       "      <td>12</td>\n",
       "      <td>1</td>\n",
       "      <td>1</td>\n",
       "      <td>44</td>\n",
       "      <td>0</td>\n",
       "      <td>24</td>\n",
       "    </tr>\n",
       "  </tbody>\n",
       "</table>\n",
       "<p>1243 rows × 7 columns</p>\n",
       "</div>"
      ],
      "text/plain": [
       "      children  years_school  university  religion  year_birth  rural  \\\n",
       "0            2             8           0         0          42      1   \n",
       "1            3             8           0         0          55      1   \n",
       "2            2             8           0         0          51      1   \n",
       "3            4             8           0         0          54      0   \n",
       "4            2             8           0         0          46      1   \n",
       "...        ...           ...         ...       ...         ...    ...   \n",
       "1238         2            13           1         1          45      1   \n",
       "1239         2            13           1         1          41      0   \n",
       "1240         2            13           1         1          56      0   \n",
       "1241         2            13           1         1          58      0   \n",
       "1242         0            12           1         1          44      0   \n",
       "\n",
       "      age_marriage  \n",
       "0               20  \n",
       "1               21  \n",
       "2               24  \n",
       "3               26  \n",
       "4               22  \n",
       "...            ...  \n",
       "1238            23  \n",
       "1239            25  \n",
       "1240            25  \n",
       "1241            25  \n",
       "1242            24  \n",
       "\n",
       "[1243 rows x 7 columns]"
      ]
     },
     "execution_count": 313,
     "metadata": {},
     "output_type": "execute_result"
    }
   ],
   "source": [
    "from sklearn.preprocessing import LabelEncoder\n",
    "\n",
    "le = LabelEncoder()\n",
    "categorical_vars = ['university', 'religion', 'rural']\n",
    "for var in categorical_vars:\n",
    "    df2[var] = le.fit_transform(df2[var])\n",
    "df2"
   ]
  },
  {
   "cell_type": "code",
   "execution_count": 314,
   "metadata": {},
   "outputs": [],
   "source": [
    "X_train = df2.drop('children', axis=1)\n",
    "y_train = df2['children']"
   ]
  },
  {
   "attachments": {},
   "cell_type": "markdown",
   "metadata": {},
   "source": [
    "### Poisson Model"
   ]
  },
  {
   "cell_type": "code",
   "execution_count": 315,
   "metadata": {},
   "outputs": [
    {
     "name": "stdout",
     "output_type": "stream",
     "text": [
      "                 Generalized Linear Model Regression Results                  \n",
      "==============================================================================\n",
      "Dep. Variable:               children   No. Observations:                 1243\n",
      "Model:                            GLM   Df Residuals:                     1237\n",
      "Model Family:                 Poisson   Df Model:                            5\n",
      "Link Function:                    Log   Scale:                          1.0000\n",
      "Method:                          IRLS   Log-Likelihood:                -2209.3\n",
      "Date:                Wed, 03 May 2023   Deviance:                       1249.3\n",
      "Time:                        19:56:01   Pearson chi2:                 1.30e+03\n",
      "No. Iterations:                     4   Pseudo R-squ. (CS):           -0.03683\n",
      "Covariance Type:            nonrobust                                         \n",
      "================================================================================\n",
      "                   coef    std err          z      P>|z|      [0.025      0.975]\n",
      "--------------------------------------------------------------------------------\n",
      "years_school     0.0873      0.016      5.543      0.000       0.056       0.118\n",
      "university      -0.3336      0.128     -2.599      0.009      -0.585      -0.082\n",
      "religion        -0.0265      0.017     -1.551      0.121      -0.060       0.007\n",
      "year_birth       0.0059      0.002      2.747      0.006       0.002       0.010\n",
      "rural            0.1171      0.037      3.151      0.002       0.044       0.190\n",
      "age_marriage    -0.0111      0.006     -1.836      0.066      -0.023       0.001\n",
      "================================================================================\n"
     ]
    }
   ],
   "source": [
    "model_poisson = sm.GLM(y_train, X_train, family=sm.families.Poisson()).fit()\n",
    "print(model_poisson.summary())"
   ]
  },
  {
   "attachments": {},
   "cell_type": "markdown",
   "metadata": {},
   "source": [
    "Primeramente podemos hacer un analisis de significancia de las variables del modelo con respecto a su valor p. Como se puede ver en la tabla, todas las variables, excepto \"religion\" y \"age_marriage\", tienen valores p menores a 0.05, lo que indica que son estadísticamente significativas en el modelo. Por otro lado, como el valor p de \"religion\" y \"age_marriage\" son 0.119 > 0.05 y  0.066 > 0.05, respectivamente, no se puede afirmar que estas variable tengan un efecto significativo en el modelo.\n",
    "\n",
    "El coeficiente negativo de \"university\", al ser una variable categorica binaria (si/no), sugiere que las mujeres con esta característica (es decir, un \"si\") tienen menos hijos.\n",
    "\n",
    "Por otro lado, el coeficientes positivo de \"rural\" sugiere que las mujeres con estas caracteristica tienen mas hijos."
   ]
  },
  {
   "attachments": {},
   "cell_type": "markdown",
   "metadata": {},
   "source": [
    "### Negative Binomial Model"
   ]
  },
  {
   "attachments": {},
   "cell_type": "markdown",
   "metadata": {},
   "source": [
    "Si la razón entre el Chi-cuadrado y los grados de libertad es mayor a 1, entonces existe sobredispersión.\n",
    "\n",
    "En este caso, el Pearson Chi-cuadrado es de 1300, con 1237 grados de libertad, lo que resulta en una razón de 1.0509. Como esta razón es mayor a 1, se puede concluir que los datos presentan sobredispersión."
   ]
  },
  {
   "cell_type": "code",
   "execution_count": 316,
   "metadata": {},
   "outputs": [
    {
     "name": "stdout",
     "output_type": "stream",
     "text": [
      "                 Generalized Linear Model Regression Results                  \n",
      "==============================================================================\n",
      "Dep. Variable:               children   No. Observations:                 1243\n",
      "Model:                            GLM   Df Residuals:                     1237\n",
      "Model Family:        NegativeBinomial   Df Model:                            5\n",
      "Link Function:                    Log   Scale:                          1.0000\n",
      "Method:                          IRLS   Log-Likelihood:                -2560.0\n",
      "Date:                Wed, 03 May 2023   Deviance:                       429.50\n",
      "Time:                        19:56:01   Pearson chi2:                     389.\n",
      "No. Iterations:                     6   Pseudo R-squ. (CS):           -0.01113\n",
      "Covariance Type:            nonrobust                                         \n",
      "================================================================================\n",
      "                   coef    std err          z      P>|z|      [0.025      0.975]\n",
      "--------------------------------------------------------------------------------\n",
      "years_school     0.0877      0.029      2.991      0.003       0.030       0.145\n",
      "university      -0.3324      0.227     -1.464      0.143      -0.777       0.113\n",
      "religion        -0.0272      0.031     -0.867      0.386      -0.089       0.034\n",
      "year_birth       0.0061      0.004      1.511      0.131      -0.002       0.014\n",
      "rural            0.1100      0.068      1.620      0.105      -0.023       0.243\n",
      "age_marriage    -0.0109      0.011     -0.985      0.325      -0.033       0.011\n",
      "================================================================================\n"
     ]
    }
   ],
   "source": [
    "model_nb = sm.GLM(y_train, X_train, family=sm.families.NegativeBinomial()).fit()\n",
    "print(model_nb.summary())"
   ]
  },
  {
   "attachments": {},
   "cell_type": "markdown",
   "metadata": {},
   "source": [
    "Para comparar los 2 modelos usaremos el AIC (Akaike Information Criterion), que es un criterio de selección de modelos que busca equilibrar la complejidad del modelo con su capacidad para ajustarse a los datos. El AIC se calcula a partir del logaritmo de la función de verosimilitud del modelo y su complejidad. Cuanto menor sea el valor de AIC, mejor se ajustará el modelo a los datos. "
   ]
  },
  {
   "cell_type": "code",
   "execution_count": 336,
   "metadata": {},
   "outputs": [
    {
     "name": "stdout",
     "output_type": "stream",
     "text": [
      "AIC Poisson: 4430.502787480056\n",
      "AIC Binomial Negativo: 5132.092370301076\n"
     ]
    }
   ],
   "source": [
    "# AIC y BIC del modelo Poisson\n",
    "poisson_aic = model_poisson.aic\n",
    "nb_aic = model_nb.aic\n",
    "print(\"AIC Poisson:\", poisson_aic)\n",
    "print(\"AIC Binomial Negativo:\", nb_aic)"
   ]
  },
  {
   "attachments": {},
   "cell_type": "markdown",
   "metadata": {},
   "source": [
    "Como se pueed apreciar, el modelo de Poisson es el que tiene menor AIC, por lo que es el modelo que mejor se ajusta a los datos."
   ]
  },
  {
   "attachments": {},
   "cell_type": "markdown",
   "metadata": {},
   "source": [
    "Residuos"
   ]
  },
  {
   "cell_type": "code",
   "execution_count": 338,
   "metadata": {},
   "outputs": [
    {
     "data": {
      "image/png": "[encoded data removed]",
      "text/plain": [
       "<Figure size 432x288 with 1 Axes>"
      ]
     },
     "metadata": {
      "needs_background": "light"
     },
     "output_type": "display_data"
    }
   ],
   "source": [
    "import matplotlib.pyplot as plt\n",
    "import statsmodels.api as sm\n",
    "\n",
    "# Definir los residuos del modelo Poisson\n",
    "resid_poisson = model_poisson.resid_response\n",
    "\n",
    "# Definir los residuos del modelo Binomial Negativo\n",
    "resid_nb = model_nb.resid_response\n",
    "\n",
    "plt.scatter(model_nb.fittedvalues, resid_nb, label='NB')\n",
    "plt.scatter(model_poisson.fittedvalues, resid_poisson, label='Poisson')\n",
    "plt.xlabel('Valores ajustados')\n",
    "plt.ylabel('Residuos')\n",
    "plt.legend()\n",
    "plt.show()"
   ]
  },
  {
   "cell_type": "code",
   "execution_count": 339,
   "metadata": {},
   "outputs": [
    {
     "name": "stdout",
     "output_type": "stream",
     "text": [
      "Chi-cuadrado: -701.5895828210196\n",
      "Valor p: 1.0\n"
     ]
    }
   ],
   "source": [
    "from scipy.stats import chi2\n",
    "\n",
    "# Calcular la prueba de razón de verosimilitud\n",
    "deg_free = model_nb.df_resid - model_poisson.df_resid  # Diferencia de grados de libertad\n",
    "lr = -2 * (model_poisson.llf - model_nb.llf)  # Estadístico de la prueba\n",
    "p = chi2.sf(lr, 1)  # Valor p\n",
    "\n",
    "# Imprimir resultados\n",
    "print(\"Chi-cuadrado:\", lr)\n",
    "print(\"Valor p:\", p)"
   ]
  }
 ],
 "metadata": {
  "kernelspec": {
   "display_name": "stat",
   "language": "python",
   "name": "python3"
  },
  "language_info": {
   "codemirror_mode": {
    "name": "ipython",
    "version": 3
   },
   "file_extension": ".py",
   "mimetype": "text/x-python",
   "name": "python",
   "nbconvert_exporter": "python",
   "pygments_lexer": "ipython3",
   "version": "3.8.16"
  },
  "orig_nbformat": 4,
  "vscode": {
   "interpreter": {
    "hash": "42c23c9d017159dfae7bf84976e020e4f8a920ef44a37f6d69cc0f7784180f3e"
   }
  }
 },
 "nbformat": 4,
 "nbformat_minor": 2
}
